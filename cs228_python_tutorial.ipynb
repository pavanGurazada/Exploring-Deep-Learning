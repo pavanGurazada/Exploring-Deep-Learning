{
  "nbformat": 4,
  "nbformat_minor": 0,
  "metadata": {
    "colab": {
      "name": "cs228-python-tutorial.ipynb",
      "version": "0.3.2",
      "provenance": []
    },
    "kernelspec": {
      "name": "python3",
      "display_name": "Python 3"
    }
  },
  "cells": [
    {
      "cell_type": "markdown",
      "metadata": {
        "id": "view-in-github",
        "colab_type": "text"
      },
      "source": [
        "[View in Colaboratory](https://colab.research.google.com/github/pgurazada/Exploring-Deep-Learning/blob/master/cs228_python_tutorial.ipynb)"
      ]
    },
    {
      "metadata": {
        "id": "2aioOa4022t1",
        "colab_type": "text"
      },
      "cell_type": "markdown",
      "source": [
        "#CS228 Python Tutorial"
      ]
    },
    {
      "metadata": {
        "id": "NVarPV9A22t3",
        "colab_type": "text"
      },
      "cell_type": "markdown",
      "source": [
        "Adapted by [Volodymyr Kuleshov](http://web.stanford.edu/~kuleshov/) and [Isaac Caswell](https://symsys.stanford.edu/viewing/symsysaffiliate/21335) from the `CS231n` Python tutorial by Justin Johnson (http://cs231n.github.io/python-numpy-tutorial/)."
      ]
    },
    {
      "metadata": {
        "id": "GAOxyaWm22t4",
        "colab_type": "text"
      },
      "cell_type": "markdown",
      "source": [
        "##Introduction"
      ]
    },
    {
      "metadata": {
        "id": "VDwZcu-A22t5",
        "colab_type": "text"
      },
      "cell_type": "markdown",
      "source": [
        "Python is a great general-purpose programming language on its own, but with the help of a few popular libraries (numpy, scipy, matplotlib) it becomes a powerful environment for scientific computing.\n",
        "\n",
        "We expect that many of you will have some experience with Python and numpy; for the rest of you, this section will serve as a quick crash course both on the Python programming language and on the use of Python for scientific computing.\n",
        "\n",
        "Some of you may have previous knowledge in Matlab, in which case we also recommend the numpy for Matlab users page (https://docs.scipy.org/doc/numpy-dev/user/numpy-for-matlab-users.html)."
      ]
    },
    {
      "metadata": {
        "id": "jsLnGEf_22t6",
        "colab_type": "text"
      },
      "cell_type": "markdown",
      "source": [
        "In this tutorial, we will cover:\n",
        "\n",
        "* Basic Python: Basic data types (Containers, Lists, Dictionaries, Sets, Tuples), Functions, Classes\n",
        "* Numpy: Arrays, Array indexing, Datatypes, Array math, Broadcasting\n",
        "* Matplotlib: Plotting, Subplots, Images\n",
        "* IPython: Creating notebooks, Typical workflows"
      ]
    },
    {
      "metadata": {
        "id": "q1g_p_4f22t6",
        "colab_type": "text"
      },
      "cell_type": "markdown",
      "source": [
        "##Basics of Python"
      ]
    },
    {
      "metadata": {
        "id": "2XZteuS722t7",
        "colab_type": "text"
      },
      "cell_type": "markdown",
      "source": [
        "Python is a high-level, dynamically typed multiparadigm programming language. Python code is often said to be almost like pseudocode, since it allows you to express very powerful ideas in very few lines of code while being very readable. As an example, here is an implementation of the classic quicksort algorithm in Python:"
      ]
    },
    {
      "metadata": {
        "id": "np82XUcg22t8",
        "colab_type": "code",
        "colab": {
          "base_uri": "https://localhost:8080/",
          "height": 34
        },
        "outputId": "92d530fc-2911-4e0e-eb8b-3a8438f5098f"
      },
      "cell_type": "code",
      "source": [
        "def quicksort(arr):\n",
        "    if len(arr) <= 1:\n",
        "        return arr\n",
        "    pivot = arr[len(arr) // 2]\n",
        "    left = [x for x in arr if x < pivot]\n",
        "    middle = [x for x in arr if x == pivot]\n",
        "    right = [x for x in arr if x > pivot]\n",
        "    return quicksort(left) + middle + quicksort(right)\n",
        "\n",
        "print(quicksort([3,6,8,10,1,2,1]))"
      ],
      "execution_count": 1,
      "outputs": [
        {
          "output_type": "stream",
          "text": [
            "[1, 1, 2, 3, 6, 8, 10]\n"
          ],
          "name": "stdout"
        }
      ]
    },
    {
      "metadata": {
        "id": "2_zUiaFK22uD",
        "colab_type": "text"
      },
      "cell_type": "markdown",
      "source": [
        "###Python versions"
      ]
    },
    {
      "metadata": {
        "id": "NX-Xx6zK22uD",
        "colab_type": "text"
      },
      "cell_type": "markdown",
      "source": [
        "There are currently two different supported versions of Python, 2.7 and 3.4. Somewhat confusingly, Python 3.0 introduced many backwards-incompatible changes to the language, so code written for 2.7 may not work under 3.4 and vice versa. For this class all code will use Python 2.7.\n",
        "\n",
        "You can check your Python version at the command line by running `python --version`."
      ]
    },
    {
      "metadata": {
        "id": "gh3XzQpE22uF",
        "colab_type": "text"
      },
      "cell_type": "markdown",
      "source": [
        "###Basic data types"
      ]
    },
    {
      "metadata": {
        "id": "JcLvUZZa22uG",
        "colab_type": "text"
      },
      "cell_type": "markdown",
      "source": [
        "####Numbers"
      ]
    },
    {
      "metadata": {
        "id": "_I86BkOe22uH",
        "colab_type": "text"
      },
      "cell_type": "markdown",
      "source": [
        "Integers and floats work as you would expect from other languages:"
      ]
    },
    {
      "metadata": {
        "id": "_qMPW2sd22uI",
        "colab_type": "code",
        "colab": {
          "base_uri": "https://localhost:8080/",
          "height": 51
        },
        "outputId": "eadd8908-5754-4b8a-ba89-4111250a7709"
      },
      "cell_type": "code",
      "source": [
        "x = 3\n",
        "print(x), type(x)"
      ],
      "execution_count": 4,
      "outputs": [
        {
          "output_type": "stream",
          "text": [
            "3\n"
          ],
          "name": "stdout"
        },
        {
          "output_type": "execute_result",
          "data": {
            "text/plain": [
              "(None, int)"
            ]
          },
          "metadata": {
            "tags": []
          },
          "execution_count": 4
        }
      ]
    },
    {
      "metadata": {
        "id": "a77Whmh_22uN",
        "colab_type": "code",
        "colab": {},
        "outputId": "a1f19d07-3c46-4fd2-8d51-c76d4909ca24"
      },
      "cell_type": "code",
      "source": [
        "print x + 1   # Addition;\n",
        "print x - 1   # Subtraction;\n",
        "print x * 2   # Multiplication;\n",
        "print x ** 2  # Exponentiation;"
      ],
      "execution_count": 0,
      "outputs": [
        {
          "output_type": "stream",
          "text": [
            "4\n",
            "2\n",
            "6\n",
            "9\n"
          ],
          "name": "stdout"
        }
      ]
    },
    {
      "metadata": {
        "id": "grgC-B2k22uR",
        "colab_type": "code",
        "colab": {},
        "outputId": "d4a9e08a-1a17-46df-b279-90b638e4a4c7"
      },
      "cell_type": "code",
      "source": [
        "x += 1\n",
        "print x  # Prints \"4\"\n",
        "x *= 2\n",
        "print x  # Prints \"8\""
      ],
      "execution_count": 0,
      "outputs": [
        {
          "output_type": "stream",
          "text": [
            "4\n",
            "8\n"
          ],
          "name": "stdout"
        }
      ]
    },
    {
      "metadata": {
        "id": "L8MbyeRq22uU",
        "colab_type": "code",
        "colab": {},
        "outputId": "eced5278-2bfe-43d1-aa41-f69f679798dd"
      },
      "cell_type": "code",
      "source": [
        "y = 2.5\n",
        "print type(y) # Prints \"<type 'float'>\"\n",
        "print y, y + 1, y * 2, y ** 2 # Prints \"2.5 3.5 5.0 6.25\""
      ],
      "execution_count": 0,
      "outputs": [
        {
          "output_type": "stream",
          "text": [
            "<type 'float'>\n",
            "2.5 3.5 5.0 6.25\n"
          ],
          "name": "stdout"
        }
      ]
    },
    {
      "metadata": {
        "id": "e_62vuhs22uZ",
        "colab_type": "text"
      },
      "cell_type": "markdown",
      "source": [
        "Note that unlike many languages, Python does not have unary increment (x++) or decrement (x--) operators.\n",
        "\n",
        "Python also has built-in types for long integers and complex numbers; you can find all of the details in the [documentation](https://docs.python.org/2/library/stdtypes.html#numeric-types-int-float-long-complex)."
      ]
    },
    {
      "metadata": {
        "id": "uuC1pZ7k22ua",
        "colab_type": "text"
      },
      "cell_type": "markdown",
      "source": [
        "####Booleans"
      ]
    },
    {
      "metadata": {
        "id": "Xlo8_06t22uc",
        "colab_type": "text"
      },
      "cell_type": "markdown",
      "source": [
        "Python implements all of the usual operators for Boolean logic, but uses English words rather than symbols (`&&`, `||`, etc.):"
      ]
    },
    {
      "metadata": {
        "id": "1Wwcr4S522uc",
        "colab_type": "code",
        "colab": {},
        "outputId": "201c703a-072d-4d98-af66-1d05d1ed16c8"
      },
      "cell_type": "code",
      "source": [
        "t, f = True, False\n",
        "print type(t) # Prints \"<type 'bool'>\""
      ],
      "execution_count": 0,
      "outputs": [
        {
          "output_type": "stream",
          "text": [
            "<type 'bool'>\n"
          ],
          "name": "stdout"
        }
      ]
    },
    {
      "metadata": {
        "id": "_d3cTR0V22ug",
        "colab_type": "text"
      },
      "cell_type": "markdown",
      "source": [
        "Now we let's look at the operations:"
      ]
    },
    {
      "metadata": {
        "id": "0vxOYpsn22uh",
        "colab_type": "code",
        "colab": {},
        "outputId": "dc0ec903-a069-4703-bfa5-3ac14e121b89"
      },
      "cell_type": "code",
      "source": [
        "print t and f # Logical AND;\n",
        "print t or f  # Logical OR;\n",
        "print not t   # Logical NOT;\n",
        "print t != f  # Logical XOR;"
      ],
      "execution_count": 0,
      "outputs": [
        {
          "output_type": "stream",
          "text": [
            "False\n",
            "True\n",
            "False\n",
            "True\n"
          ],
          "name": "stdout"
        }
      ]
    },
    {
      "metadata": {
        "id": "A6ydvWWV22um",
        "colab_type": "text"
      },
      "cell_type": "markdown",
      "source": [
        "####Strings"
      ]
    },
    {
      "metadata": {
        "id": "fQncz42h22um",
        "colab_type": "code",
        "colab": {},
        "outputId": "445324cf-8f6d-414b-9fba-d71886350694"
      },
      "cell_type": "code",
      "source": [
        "hello = 'hello'   # String literals can use single quotes\n",
        "world = \"world\"   # or double quotes; it does not matter.\n",
        "print hello, len(hello)"
      ],
      "execution_count": 0,
      "outputs": [
        {
          "output_type": "stream",
          "text": [
            "hello 5\n"
          ],
          "name": "stdout"
        }
      ]
    },
    {
      "metadata": {
        "id": "ixPPrbMe22uq",
        "colab_type": "code",
        "colab": {},
        "outputId": "d332346e-9f44-4ddb-cdb9-d59d3d260e7b"
      },
      "cell_type": "code",
      "source": [
        "hw = hello + ' ' + world  # String concatenation\n",
        "print hw  # prints \"hello world\""
      ],
      "execution_count": 0,
      "outputs": [
        {
          "output_type": "stream",
          "text": [
            "hello world\n"
          ],
          "name": "stdout"
        }
      ]
    },
    {
      "metadata": {
        "id": "MOBAKTVC22uv",
        "colab_type": "code",
        "colab": {},
        "outputId": "06524a1d-fe83-4ea2-8f29-9e900ae7c91f"
      },
      "cell_type": "code",
      "source": [
        "hw12 = '%s %s %d' % (hello, world, 12)  # sprintf style string formatting\n",
        "print hw12  # prints \"hello world 12\""
      ],
      "execution_count": 0,
      "outputs": [
        {
          "output_type": "stream",
          "text": [
            "hello world 12\n"
          ],
          "name": "stdout"
        }
      ]
    },
    {
      "metadata": {
        "id": "NdOMTWls22ux",
        "colab_type": "text"
      },
      "cell_type": "markdown",
      "source": [
        "String objects have a bunch of useful methods; for example:"
      ]
    },
    {
      "metadata": {
        "id": "msegPgnC22ux",
        "colab_type": "code",
        "colab": {},
        "outputId": "54f10396-50f8-4262-a7db-818f62741dd9"
      },
      "cell_type": "code",
      "source": [
        "s = \"hello\"\n",
        "print s.capitalize()  # Capitalize a string; prints \"Hello\"\n",
        "print s.upper()       # Convert a string to uppercase; prints \"HELLO\"\n",
        "print s.rjust(7)      # Right-justify a string, padding with spaces; prints \"  hello\"\n",
        "print s.center(7)     # Center a string, padding with spaces; prints \" hello \"\n",
        "print s.replace('l', '(ell)')  # Replace all instances of one substring with another;\n",
        "                               # prints \"he(ell)(ell)o\"\n",
        "print '  world '.strip()  # Strip leading and trailing whitespace; prints \"world\""
      ],
      "execution_count": 0,
      "outputs": [
        {
          "output_type": "stream",
          "text": [
            "Hello\n",
            "HELLO\n",
            "  hello\n",
            " hello \n",
            "he(ell)(ell)o\n",
            "world\n"
          ],
          "name": "stdout"
        }
      ]
    },
    {
      "metadata": {
        "id": "lvQrOgtv22u1",
        "colab_type": "text"
      },
      "cell_type": "markdown",
      "source": [
        "You can find a list of all string methods in the [documentation](https://docs.python.org/2/library/stdtypes.html#string-methods)."
      ]
    },
    {
      "metadata": {
        "id": "YqT2V6j022u3",
        "colab_type": "text"
      },
      "cell_type": "markdown",
      "source": [
        "###Containers"
      ]
    },
    {
      "metadata": {
        "id": "FxSDjGbK22u4",
        "colab_type": "text"
      },
      "cell_type": "markdown",
      "source": [
        "Python includes several built-in container types: lists, dictionaries, sets, and tuples."
      ]
    },
    {
      "metadata": {
        "id": "dBH2fJea22u4",
        "colab_type": "text"
      },
      "cell_type": "markdown",
      "source": [
        "####Lists"
      ]
    },
    {
      "metadata": {
        "id": "4Ai3mjuu22u5",
        "colab_type": "text"
      },
      "cell_type": "markdown",
      "source": [
        "A list is the Python equivalent of an array, but is resizeable and can contain elements of different types:"
      ]
    },
    {
      "metadata": {
        "id": "2PHDHFVX22u6",
        "colab_type": "code",
        "colab": {},
        "outputId": "1bab0f2f-28ac-4591-fa0a-58de9f0a3332"
      },
      "cell_type": "code",
      "source": [
        "xs = [3, 1, 2]   # Create a list\n",
        "print xs, xs[2]\n",
        "print xs[-1]     # Negative indices count from the end of the list; prints \"2\""
      ],
      "execution_count": 0,
      "outputs": [
        {
          "output_type": "stream",
          "text": [
            "[3, 1, 2] 2\n",
            "2\n"
          ],
          "name": "stdout"
        }
      ]
    },
    {
      "metadata": {
        "id": "hwiG0k_I22u9",
        "colab_type": "code",
        "colab": {},
        "outputId": "3c660605-46c8-46ac-ad52-98b86a77cbe0"
      },
      "cell_type": "code",
      "source": [
        "xs[2] = 'foo'    # Lists can contain elements of different types\n",
        "print xs"
      ],
      "execution_count": 0,
      "outputs": [
        {
          "output_type": "stream",
          "text": [
            "[3, 1, 'foo']\n"
          ],
          "name": "stdout"
        }
      ]
    },
    {
      "metadata": {
        "id": "k6uccsyU22vA",
        "colab_type": "code",
        "colab": {},
        "outputId": "4f283ea5-6f9c-4ce6-fb83-b4986eb944ba"
      },
      "cell_type": "code",
      "source": [
        "xs.append('bar') # Add a new element to the end of the list\n",
        "print xs  "
      ],
      "execution_count": 0,
      "outputs": [
        {
          "output_type": "stream",
          "text": [
            "[3, 1, 'foo', 'bar']\n"
          ],
          "name": "stdout"
        }
      ]
    },
    {
      "metadata": {
        "id": "PEnSTAsf22vD",
        "colab_type": "code",
        "colab": {},
        "outputId": "24121915-9be2-4c21-882b-07caf8673e90"
      },
      "cell_type": "code",
      "source": [
        "x = xs.pop()     # Remove and return the last element of the list\n",
        "print x, xs "
      ],
      "execution_count": 0,
      "outputs": [
        {
          "output_type": "stream",
          "text": [
            "bar [3, 1, 'foo']\n"
          ],
          "name": "stdout"
        }
      ]
    },
    {
      "metadata": {
        "id": "tQ0Q3VN922vF",
        "colab_type": "text"
      },
      "cell_type": "markdown",
      "source": [
        "As usual, you can find all the gory details about lists in the [documentation](https://docs.python.org/2/tutorial/datastructures.html#more-on-lists)."
      ]
    },
    {
      "metadata": {
        "id": "f6cU46Oc22vF",
        "colab_type": "text"
      },
      "cell_type": "markdown",
      "source": [
        "####Slicing"
      ]
    },
    {
      "metadata": {
        "id": "jeLlE3cN22vG",
        "colab_type": "text"
      },
      "cell_type": "markdown",
      "source": [
        "In addition to accessing list elements one at a time, Python provides concise syntax to access sublists; this is known as slicing:"
      ]
    },
    {
      "metadata": {
        "id": "d0z7r-la22vH",
        "colab_type": "code",
        "colab": {},
        "outputId": "0d120fe7-0564-48a6-d325-4388ada10317"
      },
      "cell_type": "code",
      "source": [
        "nums = range(5)    # range is a built-in function that creates a list of integers\n",
        "print nums         # Prints \"[0, 1, 2, 3, 4]\"\n",
        "print nums[2:4]    # Get a slice from index 2 to 4 (exclusive); prints \"[2, 3]\"\n",
        "print nums[2:]     # Get a slice from index 2 to the end; prints \"[2, 3, 4]\"\n",
        "print nums[:2]     # Get a slice from the start to index 2 (exclusive); prints \"[0, 1]\"\n",
        "print nums[:]      # Get a slice of the whole list; prints [\"0, 1, 2, 3, 4]\"\n",
        "print nums[:-1]    # Slice indices can be negative; prints [\"0, 1, 2, 3]\"\n",
        "nums[2:4] = [8, 9] # Assign a new sublist to a slice\n",
        "print nums         # Prints \"[0, 1, 8, 9, 4]\""
      ],
      "execution_count": 0,
      "outputs": [
        {
          "output_type": "stream",
          "text": [
            "[0, 1, 2, 3, 4]\n",
            "[2, 3]\n",
            "[2, 3, 4]\n",
            "[0, 1]\n",
            "[0, 1, 2, 3, 4]\n",
            "[0, 1, 2, 3]\n",
            "[0, 1, 8, 9, 4]\n"
          ],
          "name": "stdout"
        }
      ]
    },
    {
      "metadata": {
        "id": "RaXHelFC22vK",
        "colab_type": "text"
      },
      "cell_type": "markdown",
      "source": [
        "####Loops"
      ]
    },
    {
      "metadata": {
        "id": "mgal6On022vK",
        "colab_type": "text"
      },
      "cell_type": "markdown",
      "source": [
        "You can loop over the elements of a list like this:"
      ]
    },
    {
      "metadata": {
        "id": "4XYagXLm22vL",
        "colab_type": "code",
        "colab": {},
        "outputId": "442bd626-3393-47a4-c35f-c59753b934ac"
      },
      "cell_type": "code",
      "source": [
        "animals = ['cat', 'dog', 'monkey']\n",
        "for animal in animals:\n",
        "    print animal"
      ],
      "execution_count": 0,
      "outputs": [
        {
          "output_type": "stream",
          "text": [
            "cat\n",
            "dog\n",
            "monkey\n"
          ],
          "name": "stdout"
        }
      ]
    },
    {
      "metadata": {
        "id": "Zp5jSo9O22vN",
        "colab_type": "text"
      },
      "cell_type": "markdown",
      "source": [
        "If you want access to the index of each element within the body of a loop, use the built-in `enumerate` function:"
      ]
    },
    {
      "metadata": {
        "id": "yZbFFkaC22vO",
        "colab_type": "code",
        "colab": {},
        "outputId": "236ebfd2-3de4-4a0b-8703-ca9ab6f916ff"
      },
      "cell_type": "code",
      "source": [
        "animals = ['cat', 'dog', 'monkey']\n",
        "for idx, animal in enumerate(animals):\n",
        "    print '#%d: %s' % (idx + 1, animal)"
      ],
      "execution_count": 0,
      "outputs": [
        {
          "output_type": "stream",
          "text": [
            "#1: cat\n",
            "#2: dog\n",
            "#3: monkey\n"
          ],
          "name": "stdout"
        }
      ]
    },
    {
      "metadata": {
        "id": "tD8ITG5h22vR",
        "colab_type": "text"
      },
      "cell_type": "markdown",
      "source": [
        "####List comprehensions:"
      ]
    },
    {
      "metadata": {
        "id": "rXHdSqh322vR",
        "colab_type": "text"
      },
      "cell_type": "markdown",
      "source": [
        "When programming, frequently we want to transform one type of data into another. As a simple example, consider the following code that computes square numbers:"
      ]
    },
    {
      "metadata": {
        "id": "AqKi93UV22vT",
        "colab_type": "code",
        "colab": {},
        "outputId": "bd18b0f1-7ea1-439d-dd05-3e65db6be267"
      },
      "cell_type": "code",
      "source": [
        "nums = [0, 1, 2, 3, 4]\n",
        "squares = []\n",
        "for x in nums:\n",
        "    squares.append(x ** 2)\n",
        "print squares"
      ],
      "execution_count": 0,
      "outputs": [
        {
          "output_type": "stream",
          "text": [
            "[0, 1, 4, 9, 16]\n"
          ],
          "name": "stdout"
        }
      ]
    },
    {
      "metadata": {
        "id": "JY3sczJu22vX",
        "colab_type": "text"
      },
      "cell_type": "markdown",
      "source": [
        "You can make this code simpler using a list comprehension:"
      ]
    },
    {
      "metadata": {
        "id": "tvykjOV722vX",
        "colab_type": "code",
        "colab": {},
        "outputId": "29ecd6ec-f651-4942-ea8e-d770af35bbd5"
      },
      "cell_type": "code",
      "source": [
        "nums = [0, 1, 2, 3, 4]\n",
        "squares = [x ** 2 for x in nums]\n",
        "print squares"
      ],
      "execution_count": 0,
      "outputs": [
        {
          "output_type": "stream",
          "text": [
            "[0, 1, 4, 9, 16]\n"
          ],
          "name": "stdout"
        }
      ]
    },
    {
      "metadata": {
        "id": "GSRDiQcV22ve",
        "colab_type": "text"
      },
      "cell_type": "markdown",
      "source": [
        "List comprehensions can also contain conditions:"
      ]
    },
    {
      "metadata": {
        "id": "ojWG7-IC22vf",
        "colab_type": "code",
        "colab": {},
        "outputId": "5eef1da1-b4c2-46b3-bbcc-38159cb79ba7"
      },
      "cell_type": "code",
      "source": [
        "nums = [0, 1, 2, 3, 4]\n",
        "even_squares = [x ** 2 for x in nums if x % 2 == 0]\n",
        "print even_squares"
      ],
      "execution_count": 0,
      "outputs": [
        {
          "output_type": "stream",
          "text": [
            "[0, 4, 16]\n"
          ],
          "name": "stdout"
        }
      ]
    },
    {
      "metadata": {
        "id": "jGO8NbOI22vm",
        "colab_type": "text"
      },
      "cell_type": "markdown",
      "source": [
        "####Dictionaries"
      ]
    },
    {
      "metadata": {
        "id": "SzxduKeY22vm",
        "colab_type": "text"
      },
      "cell_type": "markdown",
      "source": [
        "A dictionary stores (key, value) pairs, similar to a `Map` in Java or an object in Javascript. You can use it like this:"
      ]
    },
    {
      "metadata": {
        "id": "0pEk_HJL22vn",
        "colab_type": "code",
        "colab": {},
        "outputId": "fa6c25e5-adf4-46bf-f111-5ae11537a0b2"
      },
      "cell_type": "code",
      "source": [
        "d = {'cat': 'cute', 'dog': 'furry'}  # Create a new dictionary with some data\n",
        "print d['cat']       # Get an entry from a dictionary; prints \"cute\"\n",
        "print 'cat' in d     # Check if a dictionary has a given key; prints \"True\""
      ],
      "execution_count": 0,
      "outputs": [
        {
          "output_type": "stream",
          "text": [
            "cute\n",
            "True\n"
          ],
          "name": "stdout"
        }
      ]
    },
    {
      "metadata": {
        "id": "chje-FcU22vs",
        "colab_type": "code",
        "colab": {},
        "outputId": "e6cca2fb-ee6f-493a-9300-8a487399dc99"
      },
      "cell_type": "code",
      "source": [
        "d['fish'] = 'wet'    # Set an entry in a dictionary\n",
        "print d['fish']      # Prints \"wet\""
      ],
      "execution_count": 0,
      "outputs": [
        {
          "output_type": "stream",
          "text": [
            "wet\n"
          ],
          "name": "stdout"
        }
      ]
    },
    {
      "metadata": {
        "id": "ZgmNI-sM22vt",
        "colab_type": "code",
        "colab": {},
        "outputId": "0b29eaff-5d80-45a6-c8a4-90b67323e95c"
      },
      "cell_type": "code",
      "source": [
        "print d['monkey']  # KeyError: 'monkey' not a key of d"
      ],
      "execution_count": 0,
      "outputs": [
        {
          "output_type": "error",
          "ename": "KeyError",
          "evalue": "'monkey'",
          "traceback": [
            "\u001b[0;31m---------------------------------------------------------------------------\u001b[0m\n\u001b[0;31mKeyError\u001b[0m                                  Traceback (most recent call last)",
            "\u001b[0;32m<ipython-input-161-85f0c5ba0fa7>\u001b[0m in \u001b[0;36m<module>\u001b[0;34m()\u001b[0m\n\u001b[0;32m----> 1\u001b[0;31m \u001b[0;32mprint\u001b[0m \u001b[0md\u001b[0m\u001b[0;34m[\u001b[0m\u001b[0;34m'monkey'\u001b[0m\u001b[0;34m]\u001b[0m  \u001b[0;31m# KeyError: 'monkey' not a key of d\u001b[0m\u001b[0;34m\u001b[0m\u001b[0m\n\u001b[0m",
            "\u001b[0;31mKeyError\u001b[0m: 'monkey'"
          ]
        }
      ]
    },
    {
      "metadata": {
        "id": "1V8YmWzV22vy",
        "colab_type": "code",
        "colab": {},
        "outputId": "62fa719f-696d-4dd8-fe6e-f224ef50a3aa"
      },
      "cell_type": "code",
      "source": [
        "print d.get('monkey', 'N/A')  # Get an element with a default; prints \"N/A\"\n",
        "print d.get('fish', 'N/A')    # Get an element with a default; prints \"wet\""
      ],
      "execution_count": 0,
      "outputs": [
        {
          "output_type": "stream",
          "text": [
            "N/A\n",
            "wet\n"
          ],
          "name": "stdout"
        }
      ]
    },
    {
      "metadata": {
        "id": "PyBPrv_D22v2",
        "colab_type": "code",
        "colab": {},
        "outputId": "2a55be04-50f5-4825-c99f-1b9a7e2c2cf5"
      },
      "cell_type": "code",
      "source": [
        "del d['fish']        # Remove an element from a dictionary\n",
        "print d.get('fish', 'N/A') # \"fish\" is no longer a key; prints \"N/A\""
      ],
      "execution_count": 0,
      "outputs": [
        {
          "output_type": "stream",
          "text": [
            "N/A\n"
          ],
          "name": "stdout"
        }
      ]
    },
    {
      "metadata": {
        "id": "Orc4OyeV22v4",
        "colab_type": "text"
      },
      "cell_type": "markdown",
      "source": [
        "You can find all you need to know about dictionaries in the [documentation](https://docs.python.org/2/library/stdtypes.html#dict)."
      ]
    },
    {
      "metadata": {
        "id": "sbRR8_xz22v5",
        "colab_type": "text"
      },
      "cell_type": "markdown",
      "source": [
        "It is easy to iterate over the keys in a dictionary:"
      ]
    },
    {
      "metadata": {
        "id": "I334KuKv22v5",
        "colab_type": "code",
        "colab": {},
        "outputId": "65371e3d-5530-4497-ac04-43146d49b59f"
      },
      "cell_type": "code",
      "source": [
        "d = {'person': 2, 'cat': 4, 'spider': 8}\n",
        "for animal in d:\n",
        "    legs = d[animal]\n",
        "    print 'A %s has %d legs' % (animal, legs)"
      ],
      "execution_count": 0,
      "outputs": [
        {
          "output_type": "stream",
          "text": [
            "A person has 2 legs\n",
            "A spider has 8 legs\n",
            "A cat has 4 legs\n"
          ],
          "name": "stdout"
        }
      ]
    },
    {
      "metadata": {
        "id": "X6sF5qTM22wA",
        "colab_type": "text"
      },
      "cell_type": "markdown",
      "source": [
        "If you want access to keys and their corresponding values, use the iteritems method:"
      ]
    },
    {
      "metadata": {
        "id": "74oJNizs22wC",
        "colab_type": "code",
        "colab": {},
        "outputId": "8cef8e94-1ca5-4fdc-8425-b364b676858e"
      },
      "cell_type": "code",
      "source": [
        "d = {'person': 2, 'cat': 4, 'spider': 8}\n",
        "for animal, legs in d.iteritems():\n",
        "    print 'A %s has %d legs' % (animal, legs)"
      ],
      "execution_count": 0,
      "outputs": [
        {
          "output_type": "stream",
          "text": [
            "A person has 2 legs\n",
            "A spider has 8 legs\n",
            "A cat has 4 legs\n"
          ],
          "name": "stdout"
        }
      ]
    },
    {
      "metadata": {
        "id": "QpDhze3822wF",
        "colab_type": "text"
      },
      "cell_type": "markdown",
      "source": [
        "Dictionary comprehensions: These are similar to list comprehensions, but allow you to easily construct dictionaries. For example:"
      ]
    },
    {
      "metadata": {
        "id": "ExrNbmpI22wH",
        "colab_type": "code",
        "colab": {},
        "outputId": "f669844d-cd05-42ef-9d0b-a1120deeb397"
      },
      "cell_type": "code",
      "source": [
        "nums = [0, 1, 2, 3, 4]\n",
        "even_num_to_square = {x: x ** 2 for x in nums if x % 2 == 0}\n",
        "print even_num_to_square"
      ],
      "execution_count": 0,
      "outputs": [
        {
          "output_type": "stream",
          "text": [
            "{0: 0, 2: 4, 4: 16}\n"
          ],
          "name": "stdout"
        }
      ]
    },
    {
      "metadata": {
        "id": "cuMtldQY22wO",
        "colab_type": "text"
      },
      "cell_type": "markdown",
      "source": [
        "####Sets"
      ]
    },
    {
      "metadata": {
        "id": "d8usKhbm22wP",
        "colab_type": "text"
      },
      "cell_type": "markdown",
      "source": [
        "A set is an unordered collection of distinct elements. As a simple example, consider the following:"
      ]
    },
    {
      "metadata": {
        "id": "meHwOyd222wQ",
        "colab_type": "code",
        "colab": {},
        "outputId": "7a20c18c-e824-4c75-cd80-baa9b14abf06"
      },
      "cell_type": "code",
      "source": [
        "animals = {'cat', 'dog'}\n",
        "print 'cat' in animals   # Check if an element is in a set; prints \"True\"\n",
        "print 'fish' in animals  # prints \"False\"\n"
      ],
      "execution_count": 0,
      "outputs": [
        {
          "output_type": "stream",
          "text": [
            "True\n",
            "False\n"
          ],
          "name": "stdout"
        }
      ]
    },
    {
      "metadata": {
        "id": "M1DzTVN_22wW",
        "colab_type": "code",
        "colab": {},
        "outputId": "0b6a92d2-ccbf-468d-9718-227dfaf8a813"
      },
      "cell_type": "code",
      "source": [
        "animals.add('fish')      # Add an element to a set\n",
        "print 'fish' in animals\n",
        "print len(animals)       # Number of elements in a set;"
      ],
      "execution_count": 0,
      "outputs": [
        {
          "output_type": "stream",
          "text": [
            "True\n",
            "3\n"
          ],
          "name": "stdout"
        }
      ]
    },
    {
      "metadata": {
        "id": "fo4Tljbd22wY",
        "colab_type": "code",
        "colab": {},
        "outputId": "44b0dee6-6452-44cf-ba3a-195c469d0137"
      },
      "cell_type": "code",
      "source": [
        "animals.add('cat')       # Adding an element that is already in the set does nothing\n",
        "print len(animals)       \n",
        "animals.remove('cat')    # Remove an element from a set\n",
        "print len(animals)       "
      ],
      "execution_count": 0,
      "outputs": [
        {
          "output_type": "stream",
          "text": [
            "3\n",
            "2\n"
          ],
          "name": "stdout"
        }
      ]
    },
    {
      "metadata": {
        "id": "yNXxs4ZF22wc",
        "colab_type": "text"
      },
      "cell_type": "markdown",
      "source": [
        "_Loops_: Iterating over a set has the same syntax as iterating over a list; however since sets are unordered, you cannot make assumptions about the order in which you visit the elements of the set:"
      ]
    },
    {
      "metadata": {
        "id": "L7Gd3Llu22we",
        "colab_type": "code",
        "colab": {},
        "outputId": "1aaeef98-fd30-4c3e-bdfa-18e930e2c675"
      },
      "cell_type": "code",
      "source": [
        "animals = {'cat', 'dog', 'fish'}\n",
        "for idx, animal in enumerate(animals):\n",
        "    print '#%d: %s' % (idx + 1, animal)\n",
        "# Prints \"#1: fish\", \"#2: dog\", \"#3: cat\""
      ],
      "execution_count": 0,
      "outputs": [
        {
          "output_type": "stream",
          "text": [
            "#1: fish\n",
            "#2: dog\n",
            "#3: cat\n"
          ],
          "name": "stdout"
        }
      ]
    },
    {
      "metadata": {
        "id": "iFVvYs0722wh",
        "colab_type": "text"
      },
      "cell_type": "markdown",
      "source": [
        "Set comprehensions: Like lists and dictionaries, we can easily construct sets using set comprehensions:"
      ]
    },
    {
      "metadata": {
        "id": "3PRRiUVu22wh",
        "colab_type": "code",
        "colab": {},
        "outputId": "f9d478d1-1c92-4337-e5fc-44df23ebb2ce"
      },
      "cell_type": "code",
      "source": [
        "from math import sqrt\n",
        "print {int(sqrt(x)) for x in range(30)}"
      ],
      "execution_count": 0,
      "outputs": [
        {
          "output_type": "stream",
          "text": [
            "set([0, 1, 2, 3, 4, 5])\n"
          ],
          "name": "stdout"
        }
      ]
    },
    {
      "metadata": {
        "id": "O-8wtrZu22wj",
        "colab_type": "text"
      },
      "cell_type": "markdown",
      "source": [
        "####Tuples"
      ]
    },
    {
      "metadata": {
        "id": "JOttBapW22wj",
        "colab_type": "text"
      },
      "cell_type": "markdown",
      "source": [
        "A tuple is an (immutable) ordered list of values. A tuple is in many ways similar to a list; one of the most important differences is that tuples can be used as keys in dictionaries and as elements of sets, while lists cannot. Here is a trivial example:"
      ]
    },
    {
      "metadata": {
        "id": "IrZ42d0i22wk",
        "colab_type": "code",
        "colab": {},
        "outputId": "2c114e6f-824d-4ea8-afcb-a90d13a2d0f5"
      },
      "cell_type": "code",
      "source": [
        "d = {(x, x + 1): x for x in range(10)}  # Create a dictionary with tuple keys\n",
        "t = (5, 6)       # Create a tuple\n",
        "print type(t)\n",
        "print d[t]       \n",
        "print d[(1, 2)]"
      ],
      "execution_count": 0,
      "outputs": [
        {
          "output_type": "stream",
          "text": [
            "<type 'tuple'>\n",
            "5\n",
            "1\n"
          ],
          "name": "stdout"
        }
      ]
    },
    {
      "metadata": {
        "id": "1qwD7o9d22wm",
        "colab_type": "code",
        "colab": {},
        "outputId": "722cf024-3028-4bbc-908b-871e851678a9"
      },
      "cell_type": "code",
      "source": [
        "t[0] = 1"
      ],
      "execution_count": 0,
      "outputs": [
        {
          "output_type": "error",
          "ename": "TypeError",
          "evalue": "'tuple' object does not support item assignment",
          "traceback": [
            "\u001b[0;31m---------------------------------------------------------------------------\u001b[0m\n\u001b[0;31mTypeError\u001b[0m                                 Traceback (most recent call last)",
            "\u001b[0;32m<ipython-input-176-0a69537257d5>\u001b[0m in \u001b[0;36m<module>\u001b[0;34m()\u001b[0m\n\u001b[0;32m----> 1\u001b[0;31m \u001b[0mt\u001b[0m\u001b[0;34m[\u001b[0m\u001b[0;36m0\u001b[0m\u001b[0;34m]\u001b[0m \u001b[0;34m=\u001b[0m \u001b[0;36m1\u001b[0m\u001b[0;34m\u001b[0m\u001b[0m\n\u001b[0m",
            "\u001b[0;31mTypeError\u001b[0m: 'tuple' object does not support item assignment"
          ]
        }
      ]
    },
    {
      "metadata": {
        "id": "JAWqEt6Q22wr",
        "colab_type": "text"
      },
      "cell_type": "markdown",
      "source": [
        "###Functions"
      ]
    },
    {
      "metadata": {
        "id": "IPlKwVvl22wr",
        "colab_type": "text"
      },
      "cell_type": "markdown",
      "source": [
        "Python functions are defined using the `def` keyword. For example:"
      ]
    },
    {
      "metadata": {
        "id": "kXwWdf7122wt",
        "colab_type": "code",
        "colab": {},
        "outputId": "c0f8fede-b416-4042-c9c3-1c836df93d7b"
      },
      "cell_type": "code",
      "source": [
        "def sign(x):\n",
        "    if x > 0:\n",
        "        return 'positive'\n",
        "    elif x < 0:\n",
        "        return 'negative'\n",
        "    else:\n",
        "        return 'zero'\n",
        "\n",
        "for x in [-1, 0, 1]:\n",
        "    print sign(x)"
      ],
      "execution_count": 0,
      "outputs": [
        {
          "output_type": "stream",
          "text": [
            "negative\n",
            "zero\n",
            "positive\n"
          ],
          "name": "stdout"
        }
      ]
    },
    {
      "metadata": {
        "id": "XreujCEu22wy",
        "colab_type": "text"
      },
      "cell_type": "markdown",
      "source": [
        "We will often define functions to take optional keyword arguments, like this:"
      ]
    },
    {
      "metadata": {
        "id": "-82pidWV22wz",
        "colab_type": "code",
        "colab": {},
        "outputId": "2cc33587-8ed0-4801-dc53-69e721e76fd6"
      },
      "cell_type": "code",
      "source": [
        "def hello(name, loud=False):\n",
        "    if loud:\n",
        "        print 'HELLO, %s' % name.upper()\n",
        "    else:\n",
        "        print 'Hello, %s!' % name\n",
        "\n",
        "hello('Bob')\n",
        "hello('Fred', loud=True)"
      ],
      "execution_count": 0,
      "outputs": [
        {
          "output_type": "stream",
          "text": [
            "Hello, Bob!\n",
            "HELLO, FRED\n"
          ],
          "name": "stdout"
        }
      ]
    },
    {
      "metadata": {
        "id": "R975qe-_22w0",
        "colab_type": "text"
      },
      "cell_type": "markdown",
      "source": [
        "###Classes"
      ]
    },
    {
      "metadata": {
        "id": "5t2fzMFS22w0",
        "colab_type": "text"
      },
      "cell_type": "markdown",
      "source": [
        "The syntax for defining classes in Python is straightforward:"
      ]
    },
    {
      "metadata": {
        "id": "lzSbsDzA22w1",
        "colab_type": "code",
        "colab": {},
        "outputId": "ead466ff-e0f4-4719-d88b-038b4d9406a3"
      },
      "cell_type": "code",
      "source": [
        "class Greeter:\n",
        "\n",
        "    # Constructor\n",
        "    def __init__(self, name):\n",
        "        self.name = name  # Create an instance variable\n",
        "\n",
        "    # Instance method\n",
        "    def greet(self, loud=False):\n",
        "        if loud:\n",
        "            print 'HELLO, %s!' % self.name.upper()\n",
        "        else:\n",
        "            print 'Hello, %s' % self.name\n",
        "\n",
        "g = Greeter('Fred')  # Construct an instance of the Greeter class\n",
        "g.greet()            # Call an instance method; prints \"Hello, Fred\"\n",
        "g.greet(loud=True)   # Call an instance method; prints \"HELLO, FRED!\""
      ],
      "execution_count": 0,
      "outputs": [
        {
          "output_type": "stream",
          "text": [
            "Hello, Fred\n",
            "HELLO, FRED!\n"
          ],
          "name": "stdout"
        }
      ]
    },
    {
      "metadata": {
        "id": "m8MXGk7A22w6",
        "colab_type": "text"
      },
      "cell_type": "markdown",
      "source": [
        "##Numpy"
      ]
    },
    {
      "metadata": {
        "id": "ROW3zf7322w7",
        "colab_type": "text"
      },
      "cell_type": "markdown",
      "source": [
        "Numpy is the core library for scientific computing in Python. It provides a high-performance multidimensional array object, and tools for working with these arrays. If you are already familiar with MATLAB, you might find this [tutorial](http://wiki.scipy.org/NumPy_for_Matlab_Users) useful to get started with Numpy."
      ]
    },
    {
      "metadata": {
        "id": "EAGJeS-T22w8",
        "colab_type": "text"
      },
      "cell_type": "markdown",
      "source": [
        "To use Numpy, we first need to import the `numpy` package:"
      ]
    },
    {
      "metadata": {
        "id": "6CA6vmVz22w9",
        "colab_type": "code",
        "colab": {
          "base_uri": "https://localhost:8080/",
          "height": 17
        },
        "outputId": "13f81e13-031d-42cf-960c-a5af6ace51d8"
      },
      "cell_type": "code",
      "source": [
        "import numpy as np"
      ],
      "execution_count": 5,
      "outputs": []
    },
    {
      "metadata": {
        "id": "R3feMGx722w_",
        "colab_type": "text"
      },
      "cell_type": "markdown",
      "source": [
        "###Arrays"
      ]
    },
    {
      "metadata": {
        "id": "UfB0j_t422w_",
        "colab_type": "text"
      },
      "cell_type": "markdown",
      "source": [
        "A numpy array is a grid of values, all of the same type, and is indexed by a tuple of nonnegative integers. The number of dimensions is the rank of the array; the shape of an array is a tuple of integers giving the size of the array along each dimension."
      ]
    },
    {
      "metadata": {
        "id": "vrsyaCbU22xA",
        "colab_type": "text"
      },
      "cell_type": "markdown",
      "source": [
        "We can initialize numpy arrays from nested Python lists, and access elements using square brackets:"
      ]
    },
    {
      "metadata": {
        "id": "R6kTzEQI22xA",
        "colab_type": "code",
        "colab": {
          "base_uri": "https://localhost:8080/",
          "height": 34
        },
        "outputId": "29798de7-b1ce-4bc2-a010-699641073e1c"
      },
      "cell_type": "code",
      "source": [
        "a = np.array([1, 2, 3])  # Create a rank 1 array\n",
        "print(type(a), a.shape, a[0], a[1], a[2])\n"
      ],
      "execution_count": 6,
      "outputs": [
        {
          "output_type": "stream",
          "text": [
            "<class 'numpy.ndarray'> (3,) 1 2 3\n"
          ],
          "name": "stdout"
        }
      ]
    },
    {
      "metadata": {
        "id": "ggWS8_u14sUS",
        "colab_type": "code",
        "colab": {
          "base_uri": "https://localhost:8080/",
          "height": 34
        },
        "outputId": "7a391d51-b97f-44b2-f2c4-195d706e9b85"
      },
      "cell_type": "code",
      "source": [
        "a[0] = 5                 # Change an element of the array\n",
        "print(a)                  "
      ],
      "execution_count": 7,
      "outputs": [
        {
          "output_type": "stream",
          "text": [
            "[5 2 3]\n"
          ],
          "name": "stdout"
        }
      ]
    },
    {
      "metadata": {
        "id": "LOQLXsDn22xC",
        "colab_type": "code",
        "colab": {
          "base_uri": "https://localhost:8080/",
          "height": 51
        },
        "outputId": "15788932-67ab-4154-ce5f-293dd6a06cb0"
      },
      "cell_type": "code",
      "source": [
        "b = np.array([[1,2,3],[4,5,6]])   # Create a rank 2 array\n",
        "print(b)"
      ],
      "execution_count": 8,
      "outputs": [
        {
          "output_type": "stream",
          "text": [
            "[[1 2 3]\n",
            " [4 5 6]]\n"
          ],
          "name": "stdout"
        }
      ]
    },
    {
      "metadata": {
        "id": "0VmFU-Ex22xE",
        "colab_type": "code",
        "colab": {
          "base_uri": "https://localhost:8080/",
          "height": 34
        },
        "outputId": "934af781-8d06-452b-a12c-6adc888af684"
      },
      "cell_type": "code",
      "source": [
        "print(b.shape)                   \n"
      ],
      "execution_count": 9,
      "outputs": [
        {
          "output_type": "stream",
          "text": [
            "(2, 3)\n"
          ],
          "name": "stdout"
        }
      ]
    },
    {
      "metadata": {
        "id": "zd4nUiEV47Di",
        "colab_type": "code",
        "colab": {
          "base_uri": "https://localhost:8080/",
          "height": 34
        },
        "outputId": "c09c49fc-e429-4b73-f336-3474f9fd473d"
      },
      "cell_type": "code",
      "source": [
        "print(b[0, 0], b[0, 1], b[1, 0])"
      ],
      "execution_count": 10,
      "outputs": [
        {
          "output_type": "stream",
          "text": [
            "1 2 4\n"
          ],
          "name": "stdout"
        }
      ]
    },
    {
      "metadata": {
        "id": "E4PmwFzq22xG",
        "colab_type": "text"
      },
      "cell_type": "markdown",
      "source": [
        "Numpy also provides many functions to create arrays:"
      ]
    },
    {
      "metadata": {
        "id": "droWYnNl22xH",
        "colab_type": "code",
        "colab": {
          "base_uri": "https://localhost:8080/",
          "height": 51
        },
        "outputId": "3baada48-9b8d-44e9-bb7b-b22a90957d81"
      },
      "cell_type": "code",
      "source": [
        "a = np.zeros((2,2))  # Create an array of all zeros\n",
        "print(a)"
      ],
      "execution_count": 11,
      "outputs": [
        {
          "output_type": "stream",
          "text": [
            "[[0. 0.]\n",
            " [0. 0.]]\n"
          ],
          "name": "stdout"
        }
      ]
    },
    {
      "metadata": {
        "id": "QGy2e0p822xL",
        "colab_type": "code",
        "colab": {
          "base_uri": "https://localhost:8080/",
          "height": 34
        },
        "outputId": "55ea89d8-878e-499e-9fd4-f933f2586d33"
      },
      "cell_type": "code",
      "source": [
        "b = np.ones((1,2))   # Create an array of all ones\n",
        "print(b)"
      ],
      "execution_count": 12,
      "outputs": [
        {
          "output_type": "stream",
          "text": [
            "[[1. 1.]]\n"
          ],
          "name": "stdout"
        }
      ]
    },
    {
      "metadata": {
        "id": "wo_5_htE22xP",
        "colab_type": "code",
        "colab": {
          "base_uri": "https://localhost:8080/",
          "height": 51
        },
        "outputId": "4764ed07-e9d5-49e0-c577-ff0a9043148d"
      },
      "cell_type": "code",
      "source": [
        "c = np.full((2,2), 7) # Create a constant array\n",
        "print(c) "
      ],
      "execution_count": 13,
      "outputs": [
        {
          "output_type": "stream",
          "text": [
            "[[7 7]\n",
            " [7 7]]\n"
          ],
          "name": "stdout"
        }
      ]
    },
    {
      "metadata": {
        "id": "-q6oVRiQ22xS",
        "colab_type": "code",
        "colab": {
          "base_uri": "https://localhost:8080/",
          "height": 51
        },
        "outputId": "f58087ff-9e44-4839-d3c3-24b488bb8e7a"
      },
      "cell_type": "code",
      "source": [
        "d = np.eye(2)        # Create a 2x2 identity matrix\n",
        "print(d)"
      ],
      "execution_count": 14,
      "outputs": [
        {
          "output_type": "stream",
          "text": [
            "[[1. 0.]\n",
            " [0. 1.]]\n"
          ],
          "name": "stdout"
        }
      ]
    },
    {
      "metadata": {
        "id": "rdh40o-l22xW",
        "colab_type": "code",
        "colab": {
          "base_uri": "https://localhost:8080/",
          "height": 51
        },
        "outputId": "491bd65e-f31e-4fd3-af36-86a37959d31d"
      },
      "cell_type": "code",
      "source": [
        "e = np.random.random((2,2)) # Create an array filled with random values\n",
        "print(e)"
      ],
      "execution_count": 15,
      "outputs": [
        {
          "output_type": "stream",
          "text": [
            "[[0.88222234 0.34865701]\n",
            " [0.77726866 0.75527293]]\n"
          ],
          "name": "stdout"
        }
      ]
    },
    {
      "metadata": {
        "id": "cN9RXZWE22xY",
        "colab_type": "text"
      },
      "cell_type": "markdown",
      "source": [
        "###Array indexing"
      ]
    },
    {
      "metadata": {
        "id": "1la8JzgP22xY",
        "colab_type": "text"
      },
      "cell_type": "markdown",
      "source": [
        "Numpy offers several ways to index into arrays."
      ]
    },
    {
      "metadata": {
        "id": "SHynjxWz22xY",
        "colab_type": "text"
      },
      "cell_type": "markdown",
      "source": [
        "Slicing: Similar to Python lists, numpy arrays can be sliced. Since arrays may be multidimensional, you must specify a slice for each dimension of the array:"
      ]
    },
    {
      "metadata": {
        "id": "YVAtQw8D6wy0",
        "colab_type": "code",
        "colab": {}
      },
      "cell_type": "code",
      "source": [
        "\n",
        "# Create the following rank 2 array with shape (3, 4)\n",
        "# [[ 1  2  3  4]\n",
        "#  [ 5  6  7  8]\n",
        "#  [ 9 10 11 12]]\n",
        "a = np.array([[1,2,3,4], [5,6,7,8], [9,10,11,12]])\n"
      ],
      "execution_count": 0,
      "outputs": []
    },
    {
      "metadata": {
        "id": "Jal94DSP6zg_",
        "colab_type": "code",
        "colab": {
          "base_uri": "https://localhost:8080/",
          "height": 51
        },
        "outputId": "41fa3753-06d9-4595-9242-6314165d4afe"
      },
      "cell_type": "code",
      "source": [
        "\n",
        "# Use slicing to pull out the subarray consisting of the first 2 rows\n",
        "# and columns 1 and 2; b is the following array of shape (2, 2):\n",
        "# [[2 3]\n",
        "#  [6 7]]\n",
        "b = a[:2, 1:3]\n",
        "print(b)"
      ],
      "execution_count": 17,
      "outputs": [
        {
          "output_type": "stream",
          "text": [
            "[[2 3]\n",
            " [6 7]]\n"
          ],
          "name": "stdout"
        }
      ]
    },
    {
      "metadata": {
        "id": "kbJG53rj7FQH",
        "colab_type": "text"
      },
      "cell_type": "markdown",
      "source": [
        "Note that the indexing starts at 0 and is open at the right.\n"
      ]
    },
    {
      "metadata": {
        "id": "Zd-CVxyz22xc",
        "colab_type": "text"
      },
      "cell_type": "markdown",
      "source": [
        "A slice of an array is a view into the same data, so modifying it will modify the original array."
      ]
    },
    {
      "metadata": {
        "id": "eSnZ3jhX22xc",
        "colab_type": "code",
        "colab": {
          "base_uri": "https://localhost:8080/",
          "height": 51
        },
        "outputId": "7948f29e-c72c-4cd0-be0f-1c882d9a116e"
      },
      "cell_type": "code",
      "source": [
        "print(a[0, 1])  \n",
        "b[0, 0] = 77    # b[0, 0] is the same piece of data as a[0, 1]\n",
        "print(a[0, 1]) "
      ],
      "execution_count": 18,
      "outputs": [
        {
          "output_type": "stream",
          "text": [
            "2\n",
            "77\n"
          ],
          "name": "stdout"
        }
      ]
    },
    {
      "metadata": {
        "id": "JdYDtrTC22xg",
        "colab_type": "text"
      },
      "cell_type": "markdown",
      "source": [
        "You can also mix integer indexing with slice indexing. However, doing so will yield an array of lower rank than the original array. Note that this is quite different from the way that MATLAB handles array slicing:"
      ]
    },
    {
      "metadata": {
        "id": "fugRfYst22xg",
        "colab_type": "code",
        "colab": {
          "base_uri": "https://localhost:8080/",
          "height": 68
        },
        "outputId": "e45d67b7-8a17-4fbf-ffc1-ebebcbda15ac"
      },
      "cell_type": "code",
      "source": [
        "# Create the following rank 2 array with shape (3, 4)\n",
        "a = np.array([[1,2,3,4], [5,6,7,8], [9,10,11,12]])\n",
        "print(a)"
      ],
      "execution_count": 19,
      "outputs": [
        {
          "output_type": "stream",
          "text": [
            "[[ 1  2  3  4]\n",
            " [ 5  6  7  8]\n",
            " [ 9 10 11 12]]\n"
          ],
          "name": "stdout"
        }
      ]
    },
    {
      "metadata": {
        "id": "5DnqaoWC22xm",
        "colab_type": "text"
      },
      "cell_type": "markdown",
      "source": [
        "Two ways of accessing the data in the middle row of the array.\n",
        "Mixing integer indexing with slices yields an array of lower rank,\n",
        "while using only slices yields an array of the same rank as the\n",
        "original array:"
      ]
    },
    {
      "metadata": {
        "id": "jiQW7d_-22xn",
        "colab_type": "code",
        "colab": {
          "base_uri": "https://localhost:8080/",
          "height": 17
        },
        "outputId": "68c1dec8-f883-4b47-f987-358b0d862a34"
      },
      "cell_type": "code",
      "source": [
        "row_r1 = a[1, :]    # Rank 1 view of the second row of a  \n",
        "row_r2 = a[1:2, :]  # Rank 2 view of the second row of a\n",
        "row_r3 = a[[1], :]  # Rank 2 view of the second row of a\n"
      ],
      "execution_count": 20,
      "outputs": []
    },
    {
      "metadata": {
        "id": "bgruomp-8mvd",
        "colab_type": "code",
        "colab": {
          "base_uri": "https://localhost:8080/",
          "height": 85
        },
        "outputId": "d5575dd0-ef16-456b-ac13-214f88fa5768"
      },
      "cell_type": "code",
      "source": [
        "\n",
        "print(row_r1), row_r1.shape \n",
        "print(row_r2), row_r2.shape\n",
        "print(row_r3), row_r3.shape"
      ],
      "execution_count": 21,
      "outputs": [
        {
          "output_type": "stream",
          "text": [
            "[5 6 7 8]\n",
            "[[5 6 7 8]]\n",
            "[[5 6 7 8]]\n"
          ],
          "name": "stdout"
        },
        {
          "output_type": "execute_result",
          "data": {
            "text/plain": [
              "(None, (1, 4))"
            ]
          },
          "metadata": {
            "tags": []
          },
          "execution_count": 21
        }
      ]
    },
    {
      "metadata": {
        "id": "lFtJS1Dw825c",
        "colab_type": "text"
      },
      "cell_type": "markdown",
      "source": [
        "Notice the difference in the rank of the same row extracted from the original matrix."
      ]
    },
    {
      "metadata": {
        "id": "yNZkVngz22xq",
        "colab_type": "code",
        "colab": {},
        "outputId": "c83da3c7-7c9a-4309-ea26-43cb03c16baa"
      },
      "cell_type": "code",
      "source": [
        "# We can make the same distinction when accessing columns of an array:\n",
        "col_r1 = a[:, 1]\n",
        "col_r2 = a[:, 1:2]\n",
        "print col_r1, col_r1.shape\n",
        "print\n",
        "print col_r2, col_r2.shape"
      ],
      "execution_count": 0,
      "outputs": [
        {
          "output_type": "stream",
          "text": [
            "[ 2  6 10] (3,)\n",
            "\n",
            "[[ 2]\n",
            " [ 6]\n",
            " [10]] (3, 1)\n"
          ],
          "name": "stdout"
        }
      ]
    },
    {
      "metadata": {
        "id": "ivBpIyDK22xs",
        "colab_type": "text"
      },
      "cell_type": "markdown",
      "source": [
        "Integer array indexing: When you index into numpy arrays using slicing, the resulting array view will always be a subarray of the original array. In contrast, integer array indexing allows you to construct arbitrary arrays using the data from another array. Here is an example:"
      ]
    },
    {
      "metadata": {
        "id": "tYwSw8eQ22xs",
        "colab_type": "code",
        "colab": {},
        "outputId": "a465c985-9723-4807-de61-9f0de0baa702"
      },
      "cell_type": "code",
      "source": [
        "a = np.array([[1,2], [3, 4], [5, 6]])\n",
        "\n",
        "# An example of integer array indexing.\n",
        "# The returned array will have shape (3,) and \n",
        "print a[[0, 1, 2], [0, 1, 0]]\n",
        "\n",
        "# The above example of integer array indexing is equivalent to this:\n",
        "print np.array([a[0, 0], a[1, 1], a[2, 0]])"
      ],
      "execution_count": 0,
      "outputs": [
        {
          "output_type": "stream",
          "text": [
            "[1 4 5]\n",
            "[1 4 5]\n"
          ],
          "name": "stdout"
        }
      ]
    },
    {
      "metadata": {
        "id": "i89TDQIq22xy",
        "colab_type": "code",
        "colab": {},
        "outputId": "011f28ff-0298-4b32-fcc7-68d7b9b881fe"
      },
      "cell_type": "code",
      "source": [
        "# When using integer array indexing, you can reuse the same\n",
        "# element from the source array:\n",
        "print a[[0, 0], [1, 1]]\n",
        "\n",
        "# Equivalent to the previous integer array indexing example\n",
        "print np.array([a[0, 1], a[0, 1]])"
      ],
      "execution_count": 0,
      "outputs": [
        {
          "output_type": "stream",
          "text": [
            "[2 2]\n",
            "[2 2]\n"
          ],
          "name": "stdout"
        }
      ]
    },
    {
      "metadata": {
        "id": "ozYEkIq-22x0",
        "colab_type": "text"
      },
      "cell_type": "markdown",
      "source": [
        "One useful trick with integer array indexing is selecting or mutating one element from each row of a matrix:"
      ]
    },
    {
      "metadata": {
        "id": "7MjjcjNS22x0",
        "colab_type": "code",
        "colab": {},
        "outputId": "687e4b82-091f-4a57-ddcd-020f9fe2f763"
      },
      "cell_type": "code",
      "source": [
        "# Create a new array from which we will select elements\n",
        "a = np.array([[1,2,3], [4,5,6], [7,8,9], [10, 11, 12]])\n",
        "print a"
      ],
      "execution_count": 0,
      "outputs": [
        {
          "output_type": "stream",
          "text": [
            "[[ 1  2  3]\n",
            " [ 4  5  6]\n",
            " [ 7  8  9]\n",
            " [10 11 12]]\n"
          ],
          "name": "stdout"
        }
      ]
    },
    {
      "metadata": {
        "id": "4Jc-VKWz22x1",
        "colab_type": "code",
        "colab": {},
        "outputId": "fc43cfbc-66a2-4276-f0a3-185fa7d23fe4"
      },
      "cell_type": "code",
      "source": [
        "# Create an array of indices\n",
        "b = np.array([0, 2, 0, 1])\n",
        "\n",
        "# Select one element from each row of a using the indices in b\n",
        "print a[np.arange(4), b]  # Prints \"[ 1  6  7 11]\""
      ],
      "execution_count": 0,
      "outputs": [
        {
          "output_type": "stream",
          "text": [
            "[ 1  6  7 11]\n"
          ],
          "name": "stdout"
        }
      ]
    },
    {
      "metadata": {
        "id": "6H7dlsRw22x5",
        "colab_type": "code",
        "colab": {},
        "outputId": "331c3aae-e852-4fe0-98d3-598a7da9fe28"
      },
      "cell_type": "code",
      "source": [
        "# Mutate one element from each row of a using the indices in b\n",
        "a[np.arange(4), b] += 10\n",
        "print a"
      ],
      "execution_count": 0,
      "outputs": [
        {
          "output_type": "stream",
          "text": [
            "[[11  2  3]\n",
            " [ 4  5 16]\n",
            " [17  8  9]\n",
            " [10 21 12]]\n"
          ],
          "name": "stdout"
        }
      ]
    },
    {
      "metadata": {
        "id": "FKnGCgr822x9",
        "colab_type": "text"
      },
      "cell_type": "markdown",
      "source": [
        "Boolean array indexing: Boolean array indexing lets you pick out arbitrary elements of an array. Frequently this type of indexing is used to select the elements of an array that satisfy some condition. Here is an example:"
      ]
    },
    {
      "metadata": {
        "id": "c1zLu-r722x-",
        "colab_type": "code",
        "colab": {},
        "outputId": "c7c726b1-70e5-402b-96ef-b9515801c302"
      },
      "cell_type": "code",
      "source": [
        "import numpy as np\n",
        "\n",
        "a = np.array([[1,2], [3, 4], [5, 6]])\n",
        "\n",
        "bool_idx = (a > 2)  # Find the elements of a that are bigger than 2;\n",
        "                    # this returns a numpy array of Booleans of the same\n",
        "                    # shape as a, where each slot of bool_idx tells\n",
        "                    # whether that element of a is > 2.\n",
        "\n",
        "print bool_idx"
      ],
      "execution_count": 0,
      "outputs": [
        {
          "output_type": "stream",
          "text": [
            "[[False False]\n",
            " [ True  True]\n",
            " [ True  True]]\n"
          ],
          "name": "stdout"
        }
      ]
    },
    {
      "metadata": {
        "id": "WbzRffVb22yB",
        "colab_type": "code",
        "colab": {},
        "outputId": "faf4a773-d122-4b29-eb7f-447917b9003c"
      },
      "cell_type": "code",
      "source": [
        "# We use boolean array indexing to construct a rank 1 array\n",
        "# consisting of the elements of a corresponding to the True values\n",
        "# of bool_idx\n",
        "print a[bool_idx]\n",
        "\n",
        "# We can do all of the above in a single concise statement:\n",
        "print a[a > 2]"
      ],
      "execution_count": 0,
      "outputs": [
        {
          "output_type": "stream",
          "text": [
            "[3 4 5 6]\n",
            "[3 4 5 6]\n"
          ],
          "name": "stdout"
        }
      ]
    },
    {
      "metadata": {
        "id": "F9OZCv0M22yD",
        "colab_type": "text"
      },
      "cell_type": "markdown",
      "source": [
        "For brevity we have left out a lot of details about numpy array indexing; if you want to know more you should read the documentation."
      ]
    },
    {
      "metadata": {
        "id": "OVY48wbQ22yD",
        "colab_type": "text"
      },
      "cell_type": "markdown",
      "source": [
        "###Datatypes"
      ]
    },
    {
      "metadata": {
        "id": "qPXhhkTy22yE",
        "colab_type": "text"
      },
      "cell_type": "markdown",
      "source": [
        "Every numpy array is a grid of elements of the same type. Numpy provides a large set of numeric datatypes that you can use to construct arrays. Numpy tries to guess a datatype when you create an array, but functions that construct arrays usually also include an optional argument to explicitly specify the datatype. Here is an example:"
      ]
    },
    {
      "metadata": {
        "id": "3_6lCtJp22yE",
        "colab_type": "code",
        "colab": {},
        "outputId": "c2e5c9a5-4701-4eb4-a140-62a031744771"
      },
      "cell_type": "code",
      "source": [
        "x = np.array([1, 2])  # Let numpy choose the datatype\n",
        "y = np.array([1.0, 2.0])  # Let numpy choose the datatype\n",
        "z = np.array([1, 2], dtype=np.int64)  # Force a particular datatype\n",
        "\n",
        "print x.dtype, y.dtype, z.dtype"
      ],
      "execution_count": 0,
      "outputs": [
        {
          "output_type": "stream",
          "text": [
            "int64 float64 int64\n"
          ],
          "name": "stdout"
        }
      ]
    },
    {
      "metadata": {
        "id": "ZM6u8P3I22yH",
        "colab_type": "text"
      },
      "cell_type": "markdown",
      "source": [
        "You can read all about numpy datatypes in the [documentation](http://docs.scipy.org/doc/numpy/reference/arrays.dtypes.html)."
      ]
    },
    {
      "metadata": {
        "id": "7fCLLo8I22yH",
        "colab_type": "text"
      },
      "cell_type": "markdown",
      "source": [
        "###Array math"
      ]
    },
    {
      "metadata": {
        "id": "Cf_FvPs222yI",
        "colab_type": "text"
      },
      "cell_type": "markdown",
      "source": [
        "Basic mathematical functions operate elementwise on arrays, and are available both as operator overloads and as functions in the numpy module:"
      ]
    },
    {
      "metadata": {
        "id": "BQyUxrKa22yI",
        "colab_type": "code",
        "colab": {},
        "outputId": "a6523fcc-6655-45cc-c9c3-fac77f6ac057"
      },
      "cell_type": "code",
      "source": [
        "x = np.array([[1,2],[3,4]], dtype=np.float64)\n",
        "y = np.array([[5,6],[7,8]], dtype=np.float64)\n",
        "\n",
        "# Elementwise sum; both produce the array\n",
        "print x + y\n",
        "print np.add(x, y)"
      ],
      "execution_count": 0,
      "outputs": [
        {
          "output_type": "stream",
          "text": [
            "[[  6.   8.]\n",
            " [ 10.  12.]]\n",
            "[[  6.   8.]\n",
            " [ 10.  12.]]\n"
          ],
          "name": "stdout"
        }
      ]
    },
    {
      "metadata": {
        "id": "aAW141vT22yJ",
        "colab_type": "code",
        "colab": {},
        "outputId": "c1ba868c-86a9-4330-a023-35a0774b8686"
      },
      "cell_type": "code",
      "source": [
        "# Elementwise difference; both produce the array\n",
        "print x - y\n",
        "print np.subtract(x, y)"
      ],
      "execution_count": 0,
      "outputs": [
        {
          "output_type": "stream",
          "text": [
            "[[-4. -4.]\n",
            " [-4. -4.]]\n",
            "[[-4. -4.]\n",
            " [-4. -4.]]\n"
          ],
          "name": "stdout"
        }
      ]
    },
    {
      "metadata": {
        "id": "MrQubCOL22yL",
        "colab_type": "code",
        "colab": {},
        "outputId": "dfe8ba81-dc39-4ac1-8cb7-b7d8aad6fe17"
      },
      "cell_type": "code",
      "source": [
        "# Elementwise product; both produce the array\n",
        "print x * y\n",
        "print np.multiply(x, y)"
      ],
      "execution_count": 0,
      "outputs": [
        {
          "output_type": "stream",
          "text": [
            "[[  5.  12.]\n",
            " [ 21.  32.]]\n",
            "[[  5.  12.]\n",
            " [ 21.  32.]]\n"
          ],
          "name": "stdout"
        }
      ]
    },
    {
      "metadata": {
        "id": "prIs09QH22yM",
        "colab_type": "code",
        "colab": {},
        "outputId": "e0cfdd90-5bf3-4fb8-ff72-9979a2fa05fc"
      },
      "cell_type": "code",
      "source": [
        "# Elementwise division; both produce the array\n",
        "# [[ 0.2         0.33333333]\n",
        "#  [ 0.42857143  0.5       ]]\n",
        "print x / y\n",
        "print np.divide(x, y)"
      ],
      "execution_count": 0,
      "outputs": [
        {
          "output_type": "stream",
          "text": [
            "[[ 0.2         0.33333333]\n",
            " [ 0.42857143  0.5       ]]\n",
            "[[ 0.2         0.33333333]\n",
            " [ 0.42857143  0.5       ]]\n"
          ],
          "name": "stdout"
        }
      ]
    },
    {
      "metadata": {
        "id": "kCV_UEGw22yN",
        "colab_type": "code",
        "colab": {},
        "outputId": "8bd97b79-9d78-421d-a1c5-ce7c0e31916e"
      },
      "cell_type": "code",
      "source": [
        "# Elementwise square root; produces the array\n",
        "# [[ 1.          1.41421356]\n",
        "#  [ 1.73205081  2.        ]]\n",
        "print np.sqrt(x)"
      ],
      "execution_count": 0,
      "outputs": [
        {
          "output_type": "stream",
          "text": [
            "[[ 1.          1.41421356]\n",
            " [ 1.73205081  2.        ]]\n"
          ],
          "name": "stdout"
        }
      ]
    },
    {
      "metadata": {
        "id": "b5pbSBfN22yO",
        "colab_type": "text"
      },
      "cell_type": "markdown",
      "source": [
        "Note that unlike MATLAB, `*` is elementwise multiplication, not matrix multiplication. We instead use the dot function to compute inner products of vectors, to multiply a vector by a matrix, and to multiply matrices. dot is available both as a function in the numpy module and as an instance method of array objects:"
      ]
    },
    {
      "metadata": {
        "id": "uk-Umwoc22yO",
        "colab_type": "code",
        "colab": {},
        "outputId": "2eaaa56d-a863-4978-ef13-20db1e376968"
      },
      "cell_type": "code",
      "source": [
        "x = np.array([[1,2],[3,4]])\n",
        "y = np.array([[5,6],[7,8]])\n",
        "\n",
        "v = np.array([9,10])\n",
        "w = np.array([11, 12])\n",
        "\n",
        "# Inner product of vectors; both produce 219\n",
        "print v.dot(w)\n",
        "print np.dot(v, w)"
      ],
      "execution_count": 0,
      "outputs": [
        {
          "output_type": "stream",
          "text": [
            "219\n",
            "219\n"
          ],
          "name": "stdout"
        }
      ]
    },
    {
      "metadata": {
        "id": "nIFPoOWs22yR",
        "colab_type": "code",
        "colab": {},
        "outputId": "500050a2-9c7f-45ed-ef73-c11f6398cd0d"
      },
      "cell_type": "code",
      "source": [
        "# Matrix / vector product; both produce the rank 1 array [29 67]\n",
        "print x.dot(v)\n",
        "print np.dot(x, v)"
      ],
      "execution_count": 0,
      "outputs": [
        {
          "output_type": "stream",
          "text": [
            "[29 67]\n",
            "[29 67]\n"
          ],
          "name": "stdout"
        }
      ]
    },
    {
      "metadata": {
        "id": "EIQe_r3g22yT",
        "colab_type": "code",
        "colab": {},
        "outputId": "bb1f7791-6282-4403-f3bf-4d8edda08327"
      },
      "cell_type": "code",
      "source": [
        "# Matrix / matrix product; both produce the rank 2 array\n",
        "# [[19 22]\n",
        "#  [43 50]]\n",
        "print x.dot(y)\n",
        "print np.dot(x, y)"
      ],
      "execution_count": 0,
      "outputs": [
        {
          "output_type": "stream",
          "text": [
            "[[19 22]\n",
            " [43 50]]\n",
            "[[19 22]\n",
            " [43 50]]\n"
          ],
          "name": "stdout"
        }
      ]
    },
    {
      "metadata": {
        "id": "o0zfPB8N22yU",
        "colab_type": "text"
      },
      "cell_type": "markdown",
      "source": [
        "Numpy provides many useful functions for performing computations on arrays; one of the most useful is `sum`:"
      ]
    },
    {
      "metadata": {
        "id": "-Nq7TWOS22yV",
        "colab_type": "code",
        "colab": {},
        "outputId": "a9000330-2252-4c21-9cf9-a6a5082408cd"
      },
      "cell_type": "code",
      "source": [
        "x = np.array([[1,2],[3,4]])\n",
        "\n",
        "print np.sum(x)  # Compute sum of all elements; prints \"10\"\n",
        "print np.sum(x, axis=0)  # Compute sum of each column; prints \"[4 6]\"\n",
        "print np.sum(x, axis=1)  # Compute sum of each row; prints \"[3 7]\""
      ],
      "execution_count": 0,
      "outputs": [
        {
          "output_type": "stream",
          "text": [
            "10\n",
            "[4 6]\n",
            "[3 7]\n"
          ],
          "name": "stdout"
        }
      ]
    },
    {
      "metadata": {
        "id": "zEu8SQ6l22yW",
        "colab_type": "text"
      },
      "cell_type": "markdown",
      "source": [
        "You can find the full list of mathematical functions provided by numpy in the [documentation](http://docs.scipy.org/doc/numpy/reference/routines.math.html).\n",
        "\n",
        "Apart from computing mathematical functions using arrays, we frequently need to reshape or otherwise manipulate data in arrays. The simplest example of this type of operation is transposing a matrix; to transpose a matrix, simply use the T attribute of an array object:"
      ]
    },
    {
      "metadata": {
        "id": "VyieJFUV22yW",
        "colab_type": "code",
        "colab": {},
        "outputId": "f912ad9a-a618-4f80-8e39-8854dd9326fa"
      },
      "cell_type": "code",
      "source": [
        "print x\n",
        "print x.T"
      ],
      "execution_count": 0,
      "outputs": [
        {
          "output_type": "stream",
          "text": [
            "[[1 2]\n",
            " [3 4]]\n",
            "[[1 3]\n",
            " [2 4]]\n"
          ],
          "name": "stdout"
        }
      ]
    },
    {
      "metadata": {
        "id": "DZR_tCmf22yY",
        "colab_type": "code",
        "colab": {},
        "outputId": "8c20b653-a125-4c62-bcc2-1fdf146a6199"
      },
      "cell_type": "code",
      "source": [
        "v = np.array([[1,2,3]])\n",
        "print v \n",
        "print v.T"
      ],
      "execution_count": 0,
      "outputs": [
        {
          "output_type": "stream",
          "text": [
            "[1 2 3]\n",
            "[1 2 3]\n"
          ],
          "name": "stdout"
        }
      ]
    },
    {
      "metadata": {
        "id": "zmmMbx5J22yb",
        "colab_type": "text"
      },
      "cell_type": "markdown",
      "source": [
        "###Broadcasting"
      ]
    },
    {
      "metadata": {
        "id": "17AXNGXT22yb",
        "colab_type": "text"
      },
      "cell_type": "markdown",
      "source": [
        "Broadcasting is a powerful mechanism that allows numpy to work with arrays of different shapes when performing arithmetic operations. Frequently we have a smaller array and a larger array, and we want to use the smaller array multiple times to perform some operation on the larger array.\n",
        "\n",
        "For example, suppose that we want to add a constant vector to each row of a matrix. We could do it like this:"
      ]
    },
    {
      "metadata": {
        "id": "4sSeqUE_22yc",
        "colab_type": "code",
        "colab": {},
        "outputId": "76eaae6d-89fb-49cb-9e59-dc2dc646268f"
      },
      "cell_type": "code",
      "source": [
        "# We will add the vector v to each row of the matrix x,\n",
        "# storing the result in the matrix y\n",
        "x = np.array([[1,2,3], [4,5,6], [7,8,9], [10, 11, 12]])\n",
        "v = np.array([1, 0, 1])\n",
        "y = np.empty_like(x)   # Create an empty matrix with the same shape as x\n",
        "\n",
        "# Add the vector v to each row of the matrix x with an explicit loop\n",
        "for i in range(4):\n",
        "    y[i, :] = x[i, :] + v\n",
        "\n",
        "print y"
      ],
      "execution_count": 0,
      "outputs": [
        {
          "output_type": "stream",
          "text": [
            "[[ 2  2  4]\n",
            " [ 5  5  7]\n",
            " [ 8  8 10]\n",
            " [11 11 13]]\n"
          ],
          "name": "stdout"
        }
      ]
    },
    {
      "metadata": {
        "id": "fucLBDGW22ye",
        "colab_type": "text"
      },
      "cell_type": "markdown",
      "source": [
        "This works; however when the matrix `x` is very large, computing an explicit loop in Python could be slow. Note that adding the vector v to each row of the matrix `x` is equivalent to forming a matrix `vv` by stacking multiple copies of `v` vertically, then performing elementwise summation of `x` and `vv`. We could implement this approach like this:"
      ]
    },
    {
      "metadata": {
        "id": "tp4nMat722ye",
        "colab_type": "code",
        "colab": {},
        "outputId": "7bb0163c-4f17-4904-b11c-85151370faf3"
      },
      "cell_type": "code",
      "source": [
        "vv = np.tile(v, (4, 1))  # Stack 4 copies of v on top of each other\n",
        "print vv                 # Prints \"[[1 0 1]\n",
        "                         #          [1 0 1]\n",
        "                         #          [1 0 1]\n",
        "                         #          [1 0 1]]\""
      ],
      "execution_count": 0,
      "outputs": [
        {
          "output_type": "stream",
          "text": [
            "[[1 0 1]\n",
            " [1 0 1]\n",
            " [1 0 1]\n",
            " [1 0 1]]\n"
          ],
          "name": "stdout"
        }
      ]
    },
    {
      "metadata": {
        "id": "PqNKZRkr22ye",
        "colab_type": "code",
        "colab": {},
        "outputId": "ee0ad01f-0d0b-4fe9-cb86-459d99b706f0"
      },
      "cell_type": "code",
      "source": [
        "y = x + vv  # Add x and vv elementwise\n",
        "print y"
      ],
      "execution_count": 0,
      "outputs": [
        {
          "output_type": "stream",
          "text": [
            "[[ 2  2  4]\n",
            " [ 5  5  7]\n",
            " [ 8  8 10]\n",
            " [11 11 13]]\n"
          ],
          "name": "stdout"
        }
      ]
    },
    {
      "metadata": {
        "id": "NITbWcRQ22yi",
        "colab_type": "text"
      },
      "cell_type": "markdown",
      "source": [
        "Numpy broadcasting allows us to perform this computation without actually creating multiple copies of v. Consider this version, using broadcasting:"
      ]
    },
    {
      "metadata": {
        "id": "58-EVytq22yi",
        "colab_type": "code",
        "colab": {},
        "outputId": "174dd426-8c39-44c9-c47e-ee9d61461901"
      },
      "cell_type": "code",
      "source": [
        "import numpy as np\n",
        "\n",
        "# We will add the vector v to each row of the matrix x,\n",
        "# storing the result in the matrix y\n",
        "x = np.array([[1,2,3], [4,5,6], [7,8,9], [10, 11, 12]])\n",
        "v = np.array([1, 0, 1])\n",
        "y = x + v  # Add v to each row of x using broadcasting\n",
        "print y"
      ],
      "execution_count": 0,
      "outputs": [
        {
          "output_type": "stream",
          "text": [
            "[[ 2  2  4]\n",
            " [ 5  5  7]\n",
            " [ 8  8 10]\n",
            " [11 11 13]]\n"
          ],
          "name": "stdout"
        }
      ]
    },
    {
      "metadata": {
        "id": "-T0lGNPZ22yk",
        "colab_type": "text"
      },
      "cell_type": "markdown",
      "source": [
        "The line `y = x + v` works even though `x` has shape `(4, 3)` and `v` has shape `(3,)` due to broadcasting; this line works as if v actually had shape `(4, 3)`, where each row was a copy of `v`, and the sum was performed elementwise.\n",
        "\n",
        "Broadcasting two arrays together follows these rules:\n",
        "\n",
        "1. If the arrays do not have the same rank, prepend the shape of the lower rank array with 1s until both shapes have the same length.\n",
        "2. The two arrays are said to be compatible in a dimension if they have the same size in the dimension, or if one of the arrays has size 1 in that dimension.\n",
        "3. The arrays can be broadcast together if they are compatible in all dimensions.\n",
        "4. After broadcasting, each array behaves as if it had shape equal to the elementwise maximum of shapes of the two input arrays.\n",
        "5. In any dimension where one array had size 1 and the other array had size greater than 1, the first array behaves as if it were copied along that dimension\n",
        "\n",
        "If this explanation does not make sense, try reading the explanation from the [documentation](http://docs.scipy.org/doc/numpy/user/basics.broadcasting.html) or this [explanation](http://wiki.scipy.org/EricsBroadcastingDoc).\n",
        "\n",
        "Functions that support broadcasting are known as universal functions. You can find the list of all universal functions in the [documentation](http://docs.scipy.org/doc/numpy/reference/ufuncs.html#available-ufuncs).\n",
        "\n",
        "Here are some applications of broadcasting:"
      ]
    },
    {
      "metadata": {
        "id": "e6xfLGPv22yk",
        "colab_type": "code",
        "colab": {},
        "outputId": "66e3a6eb-fcc4-41c0-ee19-77ff7c5b5814"
      },
      "cell_type": "code",
      "source": [
        "# Compute outer product of vectors\n",
        "v = np.array([1,2,3])  # v has shape (3,)\n",
        "w = np.array([4,5])    # w has shape (2,)\n",
        "# To compute an outer product, we first reshape v to be a column\n",
        "# vector of shape (3, 1); we can then broadcast it against w to yield\n",
        "# an output of shape (3, 2), which is the outer product of v and w:\n",
        "\n",
        "print np.reshape(v, (3, 1)) * w"
      ],
      "execution_count": 0,
      "outputs": [
        {
          "output_type": "stream",
          "text": [
            "[[ 4  5]\n",
            " [ 8 10]\n",
            " [12 15]]\n"
          ],
          "name": "stdout"
        }
      ]
    },
    {
      "metadata": {
        "id": "BWnCY22022yl",
        "colab_type": "code",
        "colab": {},
        "outputId": "feae0d04-ba68-4e67-c22b-7bab8e09fa7d"
      },
      "cell_type": "code",
      "source": [
        "# Add a vector to each row of a matrix\n",
        "x = np.array([[1,2,3], [4,5,6]])\n",
        "# x has shape (2, 3) and v has shape (3,) so they broadcast to (2, 3),\n",
        "# giving the following matrix:\n",
        "\n",
        "print x + v"
      ],
      "execution_count": 0,
      "outputs": [
        {
          "output_type": "stream",
          "text": [
            "[[2 4 6]\n",
            " [5 7 9]]\n"
          ],
          "name": "stdout"
        }
      ]
    },
    {
      "metadata": {
        "id": "lIObn_gb22ym",
        "colab_type": "code",
        "colab": {},
        "outputId": "13383f03-1fd3-487a-e926-c1a61f1df1a3"
      },
      "cell_type": "code",
      "source": [
        "# Add a vector to each column of a matrix\n",
        "# x has shape (2, 3) and w has shape (2,).\n",
        "# If we transpose x then it has shape (3, 2) and can be broadcast\n",
        "# against w to yield a result of shape (3, 2); transposing this result\n",
        "# yields the final result of shape (2, 3) which is the matrix x with\n",
        "# the vector w added to each column. Gives the following matrix:\n",
        "\n",
        "print (x.T + w).T"
      ],
      "execution_count": 0,
      "outputs": [
        {
          "output_type": "stream",
          "text": [
            "[[ 5  6  7]\n",
            " [ 9 10 11]]\n"
          ],
          "name": "stdout"
        }
      ]
    },
    {
      "metadata": {
        "id": "lp5XnGTu22yp",
        "colab_type": "code",
        "colab": {},
        "outputId": "730744c0-b745-4d68-e3db-a8f182913a89"
      },
      "cell_type": "code",
      "source": [
        "# Another solution is to reshape w to be a row vector of shape (2, 1);\n",
        "# we can then broadcast it directly against x to produce the same\n",
        "# output.\n",
        "print x + np.reshape(w, (2, 1))"
      ],
      "execution_count": 0,
      "outputs": [
        {
          "output_type": "stream",
          "text": [
            "[[ 5  6  7]\n",
            " [ 9 10 11]]\n"
          ],
          "name": "stdout"
        }
      ]
    },
    {
      "metadata": {
        "id": "Q4jk8sL622yt",
        "colab_type": "code",
        "colab": {},
        "outputId": "2f0a8582-87d7-4b2f-830b-54f231ae074b"
      },
      "cell_type": "code",
      "source": [
        "# Multiply a matrix by a constant:\n",
        "# x has shape (2, 3). Numpy treats scalars as arrays of shape ();\n",
        "# these can be broadcast together to shape (2, 3), producing the\n",
        "# following array:\n",
        "print x * 2"
      ],
      "execution_count": 0,
      "outputs": [
        {
          "output_type": "stream",
          "text": [
            "[[ 2  4  6]\n",
            " [ 8 10 12]]\n"
          ],
          "name": "stdout"
        }
      ]
    },
    {
      "metadata": {
        "id": "_y8O9XbL22yw",
        "colab_type": "text"
      },
      "cell_type": "markdown",
      "source": [
        "Broadcasting typically makes your code more concise and faster, so you should strive to use it where possible."
      ]
    },
    {
      "metadata": {
        "id": "GbboKDf_22yx",
        "colab_type": "text"
      },
      "cell_type": "markdown",
      "source": [
        "This brief overview has touched on many of the important things that you need to know about numpy, but is far from complete. Check out the [numpy reference](http://docs.scipy.org/doc/numpy/reference/) to find out much more about numpy."
      ]
    },
    {
      "metadata": {
        "id": "i3a4c8r622yx",
        "colab_type": "text"
      },
      "cell_type": "markdown",
      "source": [
        "##Matplotlib"
      ]
    },
    {
      "metadata": {
        "id": "0E-g557f22yy",
        "colab_type": "text"
      },
      "cell_type": "markdown",
      "source": [
        "Matplotlib is a plotting library. In this section give a brief introduction to the `matplotlib.pyplot` module, which provides a plotting system similar to that of MATLAB."
      ]
    },
    {
      "metadata": {
        "id": "cUc_fzbe22yy",
        "colab_type": "code",
        "colab": {}
      },
      "cell_type": "code",
      "source": [
        "import matplotlib.pyplot as plt"
      ],
      "execution_count": 0,
      "outputs": []
    },
    {
      "metadata": {
        "id": "x-hUtgH322y0",
        "colab_type": "text"
      },
      "cell_type": "markdown",
      "source": [
        "By running this special iPython command, we will be displaying plots inline:"
      ]
    },
    {
      "metadata": {
        "id": "ytVyb6wI22y1",
        "colab_type": "code",
        "colab": {}
      },
      "cell_type": "code",
      "source": [
        "%matplotlib inline"
      ],
      "execution_count": 0,
      "outputs": []
    },
    {
      "metadata": {
        "id": "bje2TwdU22y2",
        "colab_type": "text"
      },
      "cell_type": "markdown",
      "source": [
        "###Plotting"
      ]
    },
    {
      "metadata": {
        "id": "qQdnA1uE22y3",
        "colab_type": "text"
      },
      "cell_type": "markdown",
      "source": [
        "The most important function in `matplotlib` is plot, which allows you to plot 2D data. Here is a simple example:"
      ]
    },
    {
      "metadata": {
        "id": "G-Ot41tl22y3",
        "colab_type": "code",
        "colab": {},
        "outputId": "cc18ea81-7e28-4938-d539-dec1ab04f462"
      },
      "cell_type": "code",
      "source": [
        "# Compute the x and y coordinates for points on a sine curve\n",
        "x = np.arange(0, 3 * np.pi, 0.1)\n",
        "y = np.sin(x)\n",
        "\n",
        "# Plot the points using matplotlib\n",
        "plt.plot(x, y)"
      ],
      "execution_count": 0,
      "outputs": [
        {
          "output_type": "execute_result",
          "data": {},
          "metadata": {
            "tags": []
          },
          "execution_count": 252
        },
        {
          "output_type": "display_data",
          "data": {},
          "metadata": {
            "tags": []
          }
        }
      ]
    },
    {
      "metadata": {
        "id": "6tbUmP9c22y5",
        "colab_type": "text"
      },
      "cell_type": "markdown",
      "source": [
        "With just a little bit of extra work we can easily plot multiple lines at once, and add a title, legend, and axis labels:"
      ]
    },
    {
      "metadata": {
        "id": "iiaz-2p722y9",
        "colab_type": "code",
        "colab": {},
        "outputId": "7d6c0f8d-1819-4a17-b49b-77fd09694a92"
      },
      "cell_type": "code",
      "source": [
        "y_sin = np.sin(x)\n",
        "y_cos = np.cos(x)\n",
        "\n",
        "# Plot the points using matplotlib\n",
        "plt.plot(x, y_sin)\n",
        "plt.plot(x, y_cos)\n",
        "plt.xlabel('x axis label')\n",
        "plt.ylabel('y axis label')\n",
        "plt.title('Sine and Cosine')\n",
        "plt.legend(['Sine', 'Cosine'])"
      ],
      "execution_count": 0,
      "outputs": [
        {
          "output_type": "execute_result",
          "data": {},
          "metadata": {
            "tags": []
          },
          "execution_count": 254
        },
        {
          "output_type": "display_data",
          "data": {},
          "metadata": {
            "tags": []
          }
        }
      ]
    },
    {
      "metadata": {
        "id": "ElWTiyQ422y_",
        "colab_type": "text"
      },
      "cell_type": "markdown",
      "source": [
        "###Subplots "
      ]
    },
    {
      "metadata": {
        "id": "9zgFzAWQ22y_",
        "colab_type": "text"
      },
      "cell_type": "markdown",
      "source": [
        "You can plot different things in the same figure using the subplot function. Here is an example:"
      ]
    },
    {
      "metadata": {
        "id": "lTEZwuYB22y_",
        "colab_type": "code",
        "colab": {},
        "outputId": "70ecbbcb-5637-4133-890e-064e3d58a0b9"
      },
      "cell_type": "code",
      "source": [
        "# Compute the x and y coordinates for points on sine and cosine curves\n",
        "x = np.arange(0, 3 * np.pi, 0.1)\n",
        "y_sin = np.sin(x)\n",
        "y_cos = np.cos(x)\n",
        "\n",
        "# Set up a subplot grid that has height 2 and width 1,\n",
        "# and set the first such subplot as active.\n",
        "plt.subplot(2, 1, 1)\n",
        "\n",
        "# Make the first plot\n",
        "plt.plot(x, y_sin)\n",
        "plt.title('Sine')\n",
        "\n",
        "# Set the second subplot as active, and make the second plot.\n",
        "plt.subplot(2, 1, 2)\n",
        "plt.plot(x, y_cos)\n",
        "plt.title('Cosine')\n",
        "\n",
        "# Show the figure.\n",
        "plt.show()"
      ],
      "execution_count": 0,
      "outputs": [
        {
          "output_type": "display_data",
          "data": {},
          "metadata": {
            "tags": []
          }
        }
      ]
    },
    {
      "metadata": {
        "id": "WXymi-Jm22zD",
        "colab_type": "text"
      },
      "cell_type": "markdown",
      "source": [
        "You can read much more about the `subplot` function in the [documentation](http://matplotlib.org/api/pyplot_api.html#matplotlib.pyplot.subplot)."
      ]
    },
    {
      "metadata": {
        "id": "7bwArIwt22zD",
        "colab_type": "code",
        "colab": {}
      },
      "cell_type": "code",
      "source": [
        ""
      ],
      "execution_count": 0,
      "outputs": []
    }
  ]
}